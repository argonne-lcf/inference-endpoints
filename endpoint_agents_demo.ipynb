{
 "cells": [
  {
   "cell_type": "code",
   "execution_count": 2,
   "id": "3c597201-1559-4825-b34d-bea53dc31d99",
   "metadata": {},
   "outputs": [],
   "source": [
    "%%capture --no-stderr\n",
    "%pip install -U langgraph langchain-openai"
   ]
  },
  {
   "cell_type": "code",
   "execution_count": 3,
   "id": "3e49f6ec-f4d9-418d-bd37-4661e41293bf",
   "metadata": {},
   "outputs": [
    {
     "name": "stdout",
     "output_type": "stream",
     "text": [
      "Successfully loaded model: Qwen/Qwen3-32B from https://inference-api.alcf.anl.gov/resource_server/sophia/vllm/v1\n"
     ]
    }
   ],
   "source": [
    "from inference_auth_token import get_access_token\n",
    "from langchain_openai import ChatOpenAI\n",
    "\n",
    "access_token = get_access_token()\n",
    "base_url=\"https://inference-api.alcf.anl.gov/resource_server/sophia/vllm/v1\"\n",
    "model=\"Qwen/Qwen3-32B\"\n",
    "try:\n",
    "    llm = ChatOpenAI(model=model, base_url=base_url, api_key=access_token)\n",
    "    print(f\"Successfully loaded model: {model} from {base_url}\")\n",
    "\n",
    "except Exception as e:\n",
    "    print(f\"Error with loading {model}\")\n",
    "    print(e)"
   ]
  },
  {
   "cell_type": "code",
   "execution_count": 4,
   "id": "dc913a05-7962-4ea3-acaa-9151298fd06a",
   "metadata": {},
   "outputs": [
    {
     "name": "stdout",
     "output_type": "stream",
     "text": [
      "================================\u001b[1m Human Message \u001b[0m=================================\n",
      "\n",
      "what is the weather in sf\n",
      "==================================\u001b[1m Ai Message \u001b[0m==================================\n",
      "Tool Calls:\n",
      "  get_weather (chatcmpl-tool-daa23a1373c842de81abeab591de9445)\n",
      " Call ID: chatcmpl-tool-daa23a1373c842de81abeab591de9445\n",
      "  Args:\n",
      "    city: sf\n",
      "=================================\u001b[1m Tool Message \u001b[0m=================================\n",
      "Name: get_weather\n",
      "\n",
      "It's always sunny in sf\n",
      "==================================\u001b[1m Ai Message \u001b[0m==================================\n",
      "\n",
      "\n",
      "\n",
      "The weather in San Francisco, according to the latest report: **\"It's always sunny in sf.\"** ☀️ \n",
      "\n",
      "(If only real-life weather were this reliable!) Let me know if you need anything else!\n"
     ]
    }
   ],
   "source": [
    "# Using pre-built ReAct agent from LangGraph example: https://langchain-ai.github.io/langgraph/how-tos/create-react-agent/\n",
    "from typing import Literal\n",
    "from langchain_core.tools import tool\n",
    "from langgraph.prebuilt import create_react_agent\n",
    "\n",
    "@tool\n",
    "def get_weather(city: Literal[\"nyc\", \"sf\"]):\n",
    "    \"\"\"Use this to get weather information.\"\"\"\n",
    "    if city == \"nyc\":\n",
    "        return \"It might be cloudy in nyc\"\n",
    "    elif city == \"sf\":\n",
    "        return \"It's always sunny in sf\"\n",
    "    else:\n",
    "        raise AssertionError(\"Unknown city\")\n",
    "\n",
    "# Define the tools and graph\n",
    "\n",
    "tools = [get_weather]\n",
    "weather_graph = create_react_agent(llm, tools=tools)\n",
    "\n",
    "def print_stream(stream):\n",
    "    for s in stream:\n",
    "        message = s[\"messages\"][-1]\n",
    "        if isinstance(message, tuple):\n",
    "            print(message)\n",
    "        else:\n",
    "            message.pretty_print()\n",
    "            \n",
    "inputs = {\"messages\": [(\"user\", \"what is the weather in sf\")],}\n",
    "print_stream(weather_graph.stream(inputs, stream_mode=\"values\"))"
   ]
  },
  {
   "cell_type": "code",
   "execution_count": 5,
   "id": "a8cacd2b-2e22-45f1-9c08-2f50cb3b81c7",
   "metadata": {},
   "outputs": [],
   "source": [
    "%%capture --no-stderr\n",
    "%pip install pubchempy"
   ]
  },
  {
   "cell_type": "code",
   "execution_count": 6,
   "id": "07d33242-ff4b-4d83-8fa0-d282e09ed429",
   "metadata": {},
   "outputs": [
    {
     "name": "stdout",
     "output_type": "stream",
     "text": [
      "================================\u001b[1m Human Message \u001b[0m=================================\n",
      "\n",
      "what is SMILES string of Carbon Dioxide?\n",
      "==================================\u001b[1m Ai Message \u001b[0m==================================\n",
      "Tool Calls:\n",
      "  molecule_name_to_smiles (chatcmpl-tool-aee89a7716124419943c34e0fea40883)\n",
      " Call ID: chatcmpl-tool-aee89a7716124419943c34e0fea40883\n",
      "  Args:\n",
      "    name: Carbon Dioxide\n"
     ]
    },
    {
     "name": "stderr",
     "output_type": "stream",
     "text": [
      "/var/folders/f9/ff27tdm11x91185x3q1v6_lm0000gq/T/ipykernel_26776/3463582542.py:15: PubChemPyDeprecationWarning: canonical_smiles is deprecated: Use connectivity_smiles instead\n",
      "  return pubchempy.get_compounds(str(name), \"name\")[0].canonical_smiles\n"
     ]
    },
    {
     "name": "stdout",
     "output_type": "stream",
     "text": [
      "=================================\u001b[1m Tool Message \u001b[0m=================================\n",
      "Name: molecule_name_to_smiles\n",
      "\n",
      "C(=O)=O\n",
      "==================================\u001b[1m Ai Message \u001b[0m==================================\n",
      "\n",
      "\n",
      "\n",
      "The SMILES string for Carbon Dioxide (CO₂) is **C(=O)=O**. \n",
      "\n",
      "This notation represents a central carbon atom double-bonded to two oxygen atoms, reflecting its linear molecular structure. Let me know if you need further clarification!\n"
     ]
    }
   ],
   "source": [
    "from langchain_core.tools import tool\n",
    "from langgraph.prebuilt import create_react_agent\n",
    "\n",
    "@tool\n",
    "def molecule_name_to_smiles(name: str) -> str:\n",
    "    \"\"\"Convert a molecule name SMILES format.\n",
    "\n",
    "    Args:\n",
    "        name (str): molecule name.\n",
    "\n",
    "    Returns:\n",
    "        str: SMILES string.\n",
    "    \"\"\"\n",
    "    import pubchempy\n",
    "    return pubchempy.get_compounds(str(name), \"name\")[0].canonical_smiles\n",
    "\n",
    "tools = [molecule_name_to_smiles]\n",
    "chem_graph = create_react_agent(llm, tools=tools)\n",
    "\n",
    "def print_stream(stream):\n",
    "    for s in stream:\n",
    "        message = s[\"messages\"][-1]\n",
    "        if isinstance(message, tuple):\n",
    "            print(message)\n",
    "        else:\n",
    "            message.pretty_print()\n",
    "            \n",
    "inputs = {\"messages\": [(\"user\", \"what is SMILES string of Carbon Dioxide?\")]}\n",
    "print_stream(chem_graph.stream(inputs, stream_mode=\"values\"))"
   ]
  },
  {
   "cell_type": "code",
   "execution_count": 7,
   "id": "3d286475-67b3-4b87-8652-62edca987bf0",
   "metadata": {},
   "outputs": [
    {
     "name": "stdout",
     "output_type": "stream",
     "text": [
      "================================\u001b[1m Human Message \u001b[0m=================================\n",
      "\n",
      "what is SMILES string of 1-ethyl-3-(1-naphthalen-2-ylethenylamino)thiourea?\n",
      "==================================\u001b[1m Ai Message \u001b[0m==================================\n",
      "Tool Calls:\n",
      "  molecule_name_to_smiles (chatcmpl-tool-bd5b394356b141f69af6763b83de6f1f)\n",
      " Call ID: chatcmpl-tool-bd5b394356b141f69af6763b83de6f1f\n",
      "  Args:\n",
      "    name: 1-ethyl-3-(1-naphthalen-2-ylethenylamino)thiourea\n"
     ]
    },
    {
     "name": "stderr",
     "output_type": "stream",
     "text": [
      "/var/folders/f9/ff27tdm11x91185x3q1v6_lm0000gq/T/ipykernel_26776/3463582542.py:15: PubChemPyDeprecationWarning: canonical_smiles is deprecated: Use connectivity_smiles instead\n",
      "  return pubchempy.get_compounds(str(name), \"name\")[0].canonical_smiles\n"
     ]
    },
    {
     "name": "stdout",
     "output_type": "stream",
     "text": [
      "=================================\u001b[1m Tool Message \u001b[0m=================================\n",
      "Name: molecule_name_to_smiles\n",
      "\n",
      "CCNC(=S)NNC(=C)C1=CC2=CC=CC=C2C=C1\n",
      "==================================\u001b[1m Ai Message \u001b[0m==================================\n",
      "\n",
      "\n",
      "\n",
      "The SMILES string for **1-ethyl-3-(1-naphthalen-2-ylethenylamino)thiourea** is:\n",
      "\n",
      "`CCNC(=S)NNC(=C)C1=CC2=CC=CC=C2C=C1`\n",
      "\n",
      "This represents the molecular structure with:\n",
      "- An **ethyl group** on the first nitrogen of the thiourea core,\n",
      "- A **naphthalene ring** (fused benzene rings) connected via an ethenyl (CH₂=CH−) group to the second nitrogen,\n",
      "- The thiourea linkage (−NH−C(=S)−NH−). \n",
      "\n",
      "Let me know if you need further clarification!\n"
     ]
    }
   ],
   "source": [
    "inputs = {\"messages\": [(\"user\", \"what is SMILES string of 1-ethyl-3-(1-naphthalen-2-ylethenylamino)thiourea?\")]}\n",
    "print_stream(chem_graph.stream(inputs, stream_mode=\"values\"))"
   ]
  },
  {
   "cell_type": "code",
   "execution_count": null,
   "id": "089badb7-3f28-46d4-a342-e9c894327271",
   "metadata": {},
   "outputs": [],
   "source": []
  }
 ],
 "metadata": {
  "kernelspec": {
   "display_name": "Python 3 (ipykernel)",
   "language": "python",
   "name": "python3"
  },
  "language_info": {
   "codemirror_mode": {
    "name": "ipython",
    "version": 3
   },
   "file_extension": ".py",
   "mimetype": "text/x-python",
   "name": "python",
   "nbconvert_exporter": "python",
   "pygments_lexer": "ipython3",
   "version": "3.11.9"
  }
 },
 "nbformat": 4,
 "nbformat_minor": 5
}
