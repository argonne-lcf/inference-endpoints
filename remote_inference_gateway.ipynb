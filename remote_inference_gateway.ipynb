{
 "cells": [
  {
   "cell_type": "markdown",
   "metadata": {},
   "source": [
    "# LOGIN AND FETCH TOKEN"
   ]
  },
  {
   "cell_type": "code",
   "execution_count": null,
   "metadata": {},
   "outputs": [],
   "source": [
    "import globus_sdk\n",
    "import requests\n",
    "import json\n",
    "from inference_auth_token import get_access_token\n",
    "\n",
    "# Authenticate and collect access token\n",
    "# If tokens already exist, this will reuse them and fresh the access token if necessary\n",
    "access_token = get_access_token()"
   ]
  },
  {
   "cell_type": "markdown",
   "metadata": {},
   "source": [
    "# LIST ENDPOINTS"
   ]
  },
  {
   "cell_type": "code",
   "execution_count": 3,
   "metadata": {},
   "outputs": [
    {
     "name": "stdout",
     "output_type": "stream",
     "text": [
      "{'completion_endpoint_url': '/resource_server/sophia/vllm/v1/completions/', 'chat_endpoint_url': '/resource_server/sophia/vllm/v1/chat/completions/', 'embedding_endpoint_url': '/resource_server/sophia/vllm/v1/embeddings/', 'model_name': 'meta-llama/Meta-Llama-3-70B-Instruct'}\n",
      "{'completion_endpoint_url': '/resource_server/sophia/vllm/v1/completions/', 'chat_endpoint_url': '/resource_server/sophia/vllm/v1/chat/completions/', 'embedding_endpoint_url': '/resource_server/sophia/vllm/v1/embeddings/', 'model_name': 'meta-llama/Meta-Llama-3-8B-Instruct'}\n",
      "{'completion_endpoint_url': '/resource_server/sophia/vllm/v1/completions/', 'chat_endpoint_url': '/resource_server/sophia/vllm/v1/chat/completions/', 'embedding_endpoint_url': '/resource_server/sophia/vllm/v1/embeddings/', 'model_name': 'mistralai/Mistral-7B-Instruct-v0.3'}\n",
      "{'completion_endpoint_url': '/resource_server/polaris/vllm/v1/completions/', 'chat_endpoint_url': '/resource_server/polaris/vllm/v1/chat/completions/', 'embedding_endpoint_url': '/resource_server/polaris/vllm/v1/embeddings/', 'model_name': 'meta-llama/Meta-Llama-3-8B-Instruct'}\n",
      "{'completion_endpoint_url': '/resource_server/polaris/vllm/v1/completions/', 'chat_endpoint_url': '/resource_server/polaris/vllm/v1/chat/completions/', 'embedding_endpoint_url': '/resource_server/polaris/vllm/v1/embeddings/', 'model_name': 'meta-llama/Meta-Llama-3-70B-Instruct'}\n",
      "{'completion_endpoint_url': '/resource_server/polaris/vllm/v1/completions/', 'chat_endpoint_url': '/resource_server/polaris/vllm/v1/chat/completions/', 'embedding_endpoint_url': '/resource_server/polaris/vllm/v1/embeddings/', 'model_name': 'mistralai/Mistral-7B-Instruct-v0.3'}\n",
      "{'completion_endpoint_url': '/resource_server/polaris/llama-cpp/v1/completions/', 'chat_endpoint_url': '/resource_server/polaris/llama-cpp/v1/chat/completions/', 'embedding_endpoint_url': '/resource_server/polaris/llama-cpp/v1/embeddings/', 'model_name': 'meta-llama-3-8b-instruct'}\n",
      "{'completion_endpoint_url': '/resource_server/polaris/llama-cpp/v1/completions/', 'chat_endpoint_url': '/resource_server/polaris/llama-cpp/v1/chat/completions/', 'embedding_endpoint_url': '/resource_server/polaris/llama-cpp/v1/embeddings/', 'model_name': 'mistral-7b-instruct-v03'}\n",
      "{'completion_endpoint_url': '/resource_server/polaris/llama-cpp/v1/completions/', 'chat_endpoint_url': '/resource_server/polaris/llama-cpp/v1/chat/completions/', 'embedding_endpoint_url': '/resource_server/polaris/llama-cpp/v1/embeddings/', 'model_name': 'meta-llama-3-70b-instruct'}\n",
      "{'completion_endpoint_url': '/resource_server/sophia/vllm/v1/completions/', 'chat_endpoint_url': '/resource_server/sophia/vllm/v1/chat/completions/', 'embedding_endpoint_url': '/resource_server/sophia/vllm/v1/embeddings/', 'model_name': 'mistralai/Mixtral-8x22B-Instruct-v0.1'}\n"
     ]
    }
   ],
   "source": [
    "# URL to the inference gateway\n",
    "url = \"https://data-portal-dev.cels.anl.gov/resource_server/list-endpoints\"\n",
    "\n",
    "# Add access token to the headers\n",
    "headers = {\n",
    "    \"Authorization\": f\"Bearer {access_token}\",\n",
    "    \"Content-Type\": \"application/json\"\n",
    "}\n",
    "\n",
    "response = requests.get(url, headers=headers)\n",
    "for endpoint in response.json():\n",
    "    print(endpoint)"
   ]
  },
  {
   "cell_type": "markdown",
   "metadata": {},
   "source": [
    "## INFERENCE USING VLLM"
   ]
  },
  {
   "cell_type": "markdown",
   "metadata": {},
   "source": [
    "### CHAT COMPLETIONS"
   ]
  },
  {
   "cell_type": "code",
   "execution_count": 5,
   "metadata": {},
   "outputs": [
    {
     "name": "stdout",
     "output_type": "stream",
     "text": [
      "200\n",
      "{'server_response': '{\\n    \"id\": \"cmpl-364f2af1491a4a3ebf4d670ac55867e9\",\\n    \"object\": \"chat.completion\",\\n    \"created\": 1721315660,\\n    \"model\": \"meta-llama/Meta-Llama-3-8B-Instruct\",\\n    \"choices\": [\\n        {\\n            \"index\": 0,\\n            \"message\": {\\n                \"role\": \"assistant\",\\n                \"content\": \"RAD51 is a key protein involved in homologous recombination (HR) and DNA repair. It has been shown to interact with numerous proteins to regulate its activity and function. Here is a list of some of the proteins that interact with RAD51:\\\\n\\\\n1. BRCA1: RAD51 interacts with BRCA1, a tumor suppressor protein, to promote HR and DNA repair.\\\\n2. BRCA2: RAD51 also interacts with BRCA2, another tumor suppressor protein, to facilitate HR and DNA repair.\\\\n3. PALB2: PALB2, a protein involved in HR and DNA repair, interacts with RAD51 and BRCA2 to regulate their activity.\\\\n4. FANCD2: FANCD2,\",\\n                \"tool_calls\": []\\n            },\\n            \"logprobs\": null,\\n            \"finish_reason\": \"length\",\\n            \"stop_reason\": null\\n        }\\n    ],\\n    \"usage\": {\\n        \"prompt_tokens\": 18,\\n        \"total_tokens\": 168,\\n        \"completion_tokens\": 150\\n    },\\n    \"response_time\": 4.208064079284668,\\n    \"throughput_tokens_per_second\": 39.923346421226185\\n}'}\n"
     ]
    }
   ],
   "source": [
    "# URL to the inference gateway\n",
    "url = \"https://data-portal-dev.cels.anl.gov/resource_server/sophia/vllm/v1/chat/completions\"\n",
    "\n",
    "# Add access token to the headers\n",
    "headers = {\n",
    "    \"Authorization\": f\"Bearer {access_token}\",\n",
    "    \"Content-Type\": \"application/json\"\n",
    "}\n",
    "\n",
    "# Prepare the inference request\n",
    "data = {\n",
    "        \"model\": \"meta-llama/Meta-Llama-3-8B-Instruct\",\n",
    "        \"max_tokens\": 150,\n",
    "        \"messages\":[{\"role\": \"user\", \"content\": \"List all proteins that interact with RAD51\"}],\n",
    "}\n",
    "\n",
    "# Convert data into Json\n",
    "data_json = json.dumps(data)\n",
    "\n",
    "# Send the post request to the relay server\n",
    "response = requests.post(url, data=data_json, headers=headers)\n",
    "\n",
    "# Print inference response\n",
    "print(response.status_code)\n",
    "print(response.json())"
   ]
  },
  {
   "cell_type": "markdown",
   "metadata": {},
   "source": [
    "### CHAT COMPLETIONS USING PYTHON OPENAI API"
   ]
  },
  {
   "cell_type": "code",
   "execution_count": null,
   "metadata": {},
   "outputs": [],
   "source": [
    "from openai import OpenAI\n",
    " \n",
    "# Set OpenAI's API key and API base to use vLLM's API server.\n",
    "# localurl = \"http://localhost:8000/resource_server/polaris/vllm/v1\"\n",
    "openai_api_key = access_token\n",
    "openai_api_base = \"https://data-portal-dev.cels.anl.gov/resource_server/sophia/vllm/v1\"\n",
    "\n",
    "client = OpenAI(\n",
    "    api_key=openai_api_key,\n",
    "    base_url=openai_api_base,\n",
    ")\n",
    " \n",
    "# sampling_params = SamplingParams({\"prompt_logprobs\": 1, \"logprobs\": 1))\n",
    "chat_response = client.chat.completions.create(\n",
    "    model=\"meta-llama/Meta-Llama-3-8B-Instruct\",\n",
    "    logprobs=True,\n",
    "    top_logprobs=1,\n",
    "    messages=[\n",
    "        {\"role\": \"user\", \"content\": \"A detailed description of the biochemical \\\n",
    "            function 5-(hydroxymethyl)furfural/furfural transporter is\"},\n",
    "    ],\n",
    "    max_tokens=2056\n",
    ")\n",
    "print(\"Chat response:\", chat_response)"
   ]
  },
  {
   "cell_type": "markdown",
   "metadata": {},
   "source": [
    "### LEGACY COMPLETIONS"
   ]
  },
  {
   "cell_type": "code",
   "execution_count": null,
   "metadata": {},
   "outputs": [],
   "source": [
    "# URL to the inference gateway\n",
    "url = \"https://data-portal-dev.cels.anl.gov/resource_server/sophia/vllm/v1/completions\"\n",
    "\n",
    "# Add access token to the headers\n",
    "headers = {\n",
    "    \"Authorization\": f\"Bearer {access_token}\",\n",
    "    \"Content-Type\": \"application/json\"\n",
    "}\n",
    "\n",
    "# Prepare the inference request\n",
    "data = {\n",
    "        \"model\": \"meta-llama/Meta-Llama-3-8B-Instruct\",\n",
    "        \"temperature\": 0.2,\n",
    "        \"max_tokens\": 150,\n",
    "        \"prompt\": \"List all proteins that interact with RAD51\",\n",
    "        \"logprobs\":1\n",
    "}\n",
    "\n",
    "# Convert data into Json\n",
    "data_json = json.dumps(data)\n",
    "\n",
    "# Send the post request to the relay server\n",
    "response = requests.post(url, data=data_json, headers=headers)\n",
    "\n",
    "# Print inference response\n",
    "print(response.status_code)\n",
    "print(response.json())"
   ]
  },
  {
   "cell_type": "markdown",
   "metadata": {},
   "source": [
    "### meta-llama/Meta-Llama-3-70B-Instruct"
   ]
  },
  {
   "cell_type": "code",
   "execution_count": null,
   "metadata": {},
   "outputs": [],
   "source": [
    "# URL to the inference gateway\n",
    "url = \"https://data-portal-dev.cels.anl.gov/resource_server/sophia/vllm/v1/chat/completions\"\n",
    "\n",
    "# Add access token to the headers\n",
    "headers = {\n",
    "    \"Authorization\": f\"Bearer {access_token}\",\n",
    "    \"Content-Type\": \"application/json\"\n",
    "}\n",
    "\n",
    "# Prepare the inference request\n",
    "data = {\n",
    "        \"model\": \"meta-llama/Meta-Llama-3-70B-Instruct\",\n",
    "        \"max_tokens\": 150,\n",
    "        \"messages\":[{\"role\": \"user\", \"content\": \"List all proteins that interact with RAD51\"}]\n",
    "}\n",
    "\n",
    "# Convert data into Json\n",
    "data_json = json.dumps(data)\n",
    "\n",
    "# Send the post request to the relay server\n",
    "response = requests.post(url, data=data_json, headers=headers)\n",
    "\n",
    "# Print inference response\n",
    "print(response.status_code)\n",
    "print(response.json())"
   ]
  },
  {
   "cell_type": "code",
   "execution_count": null,
   "metadata": {},
   "outputs": [],
   "source": [
    "# URL to the inference gateway\n",
    "url = \"https://data-portal-dev.cels.anl.gov/resource_server/sophia/vllm/v1/completions\"\n",
    "\n",
    "# Add access token to the headers\n",
    "headers = {\n",
    "    \"Authorization\": f\"Bearer {access_token}\",\n",
    "    \"Content-Type\": \"application/json\"\n",
    "}\n",
    "\n",
    "# Prepare the inference request\n",
    "data = {\n",
    "        \"model\": \"meta-llama/Meta-Llama-3-70B-Instruct\",\n",
    "        \"temperature\": 0.2,\n",
    "        \"max_tokens\": 150,\n",
    "        \"prompt\":\"List all proteins that interact with RAD51\"\n",
    "}\n",
    "\n",
    "# Convert data into Json\n",
    "data_json = json.dumps(data)\n",
    "\n",
    "# Send the post request to the relay server\n",
    "response = requests.post(url, data=data_json, headers=headers)\n",
    "\n",
    "# Print inference response\n",
    "print(response.status_code)\n",
    "print(response.json())"
   ]
  },
  {
   "cell_type": "markdown",
   "metadata": {},
   "source": [
    "### Mistral-7B-Instruct-v0.3"
   ]
  },
  {
   "cell_type": "code",
   "execution_count": null,
   "metadata": {},
   "outputs": [],
   "source": [
    "import time\n",
    "start_time = time.time()\n",
    "\n",
    "# URL to the inference gateway\n",
    "url = \"https://data-portal-dev.cels.anl.gov/resource_server/sophia/vllm/v1/completions\"\n",
    "\n",
    "# Add access token to the headers\n",
    "headers = {\n",
    "    \"Authorization\": f\"Bearer {access_token}\",\n",
    "    \"Content-Type\": \"application/json\"\n",
    "}\n",
    "\n",
    "# Prepare the inference request\n",
    "data = {\n",
    "        \"model\": \"mistralai/Mistral-7B-Instruct-v0.3\",\n",
    "        \"temperature\": 0.2,\n",
    "        \"max_tokens\": 150,\n",
    "        \"prompt\" : \"List all proteins that interact with RAD51\",\n",
    "        \"logprobs\":1\n",
    "}\n",
    "\n",
    "# Convert data into Json\n",
    "data_json = json.dumps(data)\n",
    "\n",
    "# Send the post request to the relay server\n",
    "response = requests.post(url, data=data_json, headers=headers)\n",
    "\n",
    "# Print inference response\n",
    "print(response.status_code)\n",
    "print(response.json())\n",
    "print(\"Time for globus to submit and respond\",time.time()-start_time)"
   ]
  },
  {
   "cell_type": "code",
   "execution_count": null,
   "metadata": {},
   "outputs": [],
   "source": [
    "import time\n",
    "start_time = time.time()\n",
    "\n",
    "# URL to the inference gateway\n",
    "url = \"https://data-portal-dev.cels.anl.gov/resource_server/sophia/vllm/v1/chat/completions\"\n",
    "\n",
    "# Add access token to the headers\n",
    "headers = {\n",
    "    \"Authorization\": f\"Bearer {access_token}\",\n",
    "    \"Content-Type\": \"application/json\"\n",
    "}\n",
    "\n",
    "# Prepare the inference request\n",
    "data = {\n",
    "        \"model\": \"mistralai/Mistral-7B-Instruct-v0.3\",\n",
    "        \"temperature\": 0.2,\n",
    "        \"max_tokens\": 150,\n",
    "        \"messages\":[{\"role\": \"user\", \"content\": \"List all proteins that interact with RAD51\"}],\n",
    "        \"logprobs\":True\n",
    "}\n",
    "\n",
    "# Convert data into Json\n",
    "data_json = json.dumps(data)\n",
    "\n",
    "# Send the post request to the relay server\n",
    "response = requests.post(url, data=data_json, headers=headers)\n",
    "\n",
    "# Print inference response\n",
    "print(response.status_code)\n",
    "print(response.json())\n",
    "print(\"Time for globus to submit and respond\",time.time()-start_time)"
   ]
  },
  {
   "cell_type": "markdown",
   "metadata": {},
   "source": [
    "## Mixtral-8x22B-Instruct-v0.1"
   ]
  },
  {
   "cell_type": "code",
   "execution_count": 17,
   "metadata": {},
   "outputs": [
    {
     "name": "stdout",
     "output_type": "stream",
     "text": [
      "200\n",
      "{'server_response': '{\\n    \"id\": \"cmpl-1fb607f8a5b648ecbf28b9d82088d3aa\",\\n    \"object\": \"text_completion\",\\n    \"created\": 1722571829,\\n    \"model\": \"mistralai/Mixtral-8x22B-Instruct-v0.1\",\\n    \"choices\": [\\n        {\\n            \"index\": 0,\\n            \"text\": \".\\\\n\\\\nTo find all proteins that interact with RAD51, you can use various protein-protein interaction databases such as BioGRID, IntAct, and STRING. Here are some of the proteins that interact with RAD51, according to these databases:\\\\n\\\\n1. BRCA1\\\\n2. BRCA2\\\\n3. PALB2\\\\n4. RAD51B\\\\n5. RAD51C\\\\n6. RAD51D\\\\n7. RAD52\\\\n8. RAD54\\\\n9. RAD54B\\\\n10. RAD54L\\\\n11. XRCC2\\\\n12. XR\",\\n            \"logprobs\": null,\\n            \"finish_reason\": \"length\",\\n            \"stop_reason\": null\\n        }\\n    ],\\n    \"usage\": {\\n        \"prompt_tokens\": 12,\\n        \"total_tokens\": 162,\\n        \"completion_tokens\": 150\\n    },\\n    \"response_time\": 7.473295450210571,\\n    \"throughput_tokens_per_second\": 21.677183924989265\\n}'}\n",
      "Time for globus to submit and respond 10.507147073745728\n"
     ]
    }
   ],
   "source": [
    "import time\n",
    "start_time = time.time()\n",
    "\n",
    "# URL to the inference gateway\n",
    "url = \"https://data-portal-dev.cels.anl.gov/resource_server/sophia/vllm/v1/completions\"\n",
    "\n",
    "# Add access token to the headers\n",
    "headers = {\n",
    "    \"Authorization\": f\"Bearer {access_token}\",\n",
    "    \"Content-Type\": \"application/json\"\n",
    "}\n",
    "\n",
    "# Prepare the inference request\n",
    "data = {\n",
    "        \"model\": \"mistralai/Mixtral-8x22B-Instruct-v0.1\",\n",
    "        \"temperature\": 0.2,\n",
    "        \"max_tokens\": 150,\n",
    "        \"prompt\" : \"List all proteins that interact with RAD51\",\n",
    "}\n",
    "\n",
    "# Convert data into Json\n",
    "data_json = json.dumps(data)\n",
    "\n",
    "# Send the post request to the relay server\n",
    "response = requests.post(url, data=data_json, headers=headers)\n",
    "\n",
    "# Print inference response\n",
    "print(response.status_code)\n",
    "print(response.json())\n",
    "print(\"Time for globus to submit and respond\",time.time()-start_time)"
   ]
  },
  {
   "cell_type": "code",
   "execution_count": 15,
   "metadata": {},
   "outputs": [
    {
     "name": "stdout",
     "output_type": "stream",
     "text": [
      "200\n",
      "{'server_response': '{\\n    \"id\": \"chat-4fc6c8569f5a43e78b967714e65c5ab1\",\\n    \"object\": \"chat.completion\",\\n    \"created\": 1722571630,\\n    \"model\": \"mistralai/Mixtral-8x22B-Instruct-v0.1\",\\n    \"choices\": [\\n        {\\n            \"index\": 0,\\n            \"message\": {\\n                \"role\": \"assistant\",\\n                \"content\": \" RAD51 is a key protein involved in the homologous recombination (HR) repair of DNA double-strand breaks (DSBs). It interacts with several other proteins to carry out its function. Here are some proteins that interact with RAD51:\\\\n\\\\n1. BRCA1 (Breast cancer type 1 susceptibility protein): BRCA1 interacts with RAD51 and promotes its nuclear localization and accumulation at sites of DNA damage.\\\\n\\\\n2. BRCA2 (Breast cancer type 2 susceptibility protein): BRCA2 plays a crucial role in the HR repair pathway by mediating the recruitment of RAD51 to DSBs.\\\\n\\\\n3. PALB2 (Partner and localizer of BRCA2): PALB2 interacts with BRCA2 and RAD51 to facilitate the loading of RAD51 onto single-stranded DNA during HR.\\\\n\\\\n4. RAD51 paralogs (RAD51B, RAD51C, RAD51D, XRCC2, XRCC3): These proteins form a complex called the BCDX2 complex, which interacts with RAD51 and promotes the assembly of RAD51 filaments on ssDNA.\\\\n\\\\n5. RAD52: RAD52 interacts with RAD51 and facilitates the annealing of complementary DNA strands during HR.\\\\n\\\\n6. RAD54: RAD54 interacts with RAD51 and plays a role in the displacement of RAD51 from DNA and the resolution of the HR intermediates.\\\\n\\\\n7. BLM (Bloom syndrome protein): BLM interacts with RAD51 and regulates RAD51 filament formation and stability.\\\\n\\\\n8. RPA (Replication protein A): RPA is a single-stranded DNA-binding protein that interacts with RAD51 and promotes RAD51 filament formation during HR.\\\\n\\\\n9. NBS1 (Nijmegen breakage syndrome protein 1): NBS1 interacts with RAD51 and plays a role in the recruitment of RAD51 to DSBs during HR.\\\\n\\\\n10. MRE11-RAD50-NBS1 (MRN) complex: The MRN complex interacts with RAD51 and plays a role in the detection and processing of DSBs during HR.\",\\n                \"tool_calls\": []\\n            },\\n            \"logprobs\": null,\\n            \"finish_reason\": \"stop\",\\n            \"stop_reason\": null\\n        }\\n    ],\\n    \"usage\": {\\n        \"prompt_tokens\": 14,\\n        \"total_tokens\": 560,\\n        \"completion_tokens\": 546\\n    },\\n    \"response_time\": 27.265340566635132,\\n    \"throughput_tokens_per_second\": 20.538896208957595\\n}'}\n",
      "Time for globus to submit and respond 30.95254898071289\n"
     ]
    }
   ],
   "source": [
    "import time\n",
    "start_time = time.time()\n",
    "\n",
    "# URL to the inference gateway\n",
    "url = \"https://data-portal-dev.cels.anl.gov/resource_server/sophia/vllm/v1/chat/completions\"\n",
    "\n",
    "# Add access token to the headers\n",
    "headers = {\n",
    "    \"Authorization\": f\"Bearer {access_token}\",\n",
    "    \"Content-Type\": \"application/json\"\n",
    "}\n",
    "\n",
    "# Prepare the inference request\n",
    "data = {\n",
    "        \"model\": \"mistralai/Mixtral-8x22B-Instruct-v0.1\",\n",
    "        \"temperature\": 0.2,\n",
    "        \"messages\":[{\"role\": \"user\", \"content\": \"List all proteins that interact with RAD51\"}],\n",
    "}\n",
    "\n",
    "# Convert data into Json\n",
    "data_json = json.dumps(data)\n",
    "\n",
    "# Send the post request to the relay server\n",
    "response = requests.post(url, data=data_json, headers=headers)\n",
    "\n",
    "# Print inference response\n",
    "print(response.status_code)\n",
    "print(response.json())\n",
    "print(\"Time for globus to submit and respond\",time.time()-start_time)"
   ]
  },
  {
   "cell_type": "markdown",
   "metadata": {},
   "source": [
    "## FINDINGS\n",
    "* Globus adds an average of 5 seconds to the latency\n"
   ]
  }
 ],
 "metadata": {
  "kernelspec": {
   "display_name": "Python 3 (ipykernel)",
   "language": "python",
   "name": "python3"
  },
  "language_info": {
   "codemirror_mode": {
    "name": "ipython",
    "version": 3
   },
   "file_extension": ".py",
   "mimetype": "text/x-python",
   "name": "python",
   "nbconvert_exporter": "python",
   "pygments_lexer": "ipython3",
   "version": "3.11.9"
  }
 },
 "nbformat": 4,
 "nbformat_minor": 4
}
